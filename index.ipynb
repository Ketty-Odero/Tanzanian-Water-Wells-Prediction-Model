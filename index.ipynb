{
 "cells": [
  {
   "cell_type": "markdown",
   "metadata": {},
   "source": [
    "# **Predicting Water Pump Functionality in Tanzania : Machine Learning Approach to Enhance Resource Allocation**\n"
   ]
  },
  {
   "cell_type": "markdown",
   "metadata": {},
   "source": [
    "### **Business Understanding**"
   ]
  },
  {
   "cell_type": "markdown",
   "metadata": {},
   "source": [
    "### Overview\n",
    "\n",
    "Tanzania is in the midst of a crisis, out of its 65 million population, 55%  and 11% of rural and urban population respectively, do not have access to clean water. People living under these circumstances, particularly women and girls, spend a significant amount of time traveling long distances to collect water.This poses significant risks in public health, economic productivity and educational opportunities.Now more than everaccess to safe water at home is critical to families in Tanzania."
   ]
  },
  {
   "cell_type": "markdown",
   "metadata": {},
   "source": [
    "####      Problem Statement\n",
    "\n",
    "Access to clean and functional water points is vital for rural and urban communities in Tanzania. However, many wells in Tanzania are either non-functional or require repairs, affecting water accessibility and community well-being.\n",
    "\n",
    "The central question is: **How can we predict the functionality of water points to prioritize maintenance and improve resource allocation?**"
   ]
  },
  {
   "cell_type": "markdown",
   "metadata": {},
   "source": [
    "####    Key Stakeholders\n",
    "\n",
    "Tanzanian Government Agencies, NGOs, Community Leaders, Technical Team (Engineers and Technicians)\n",
    "\n"
   ]
  },
  {
   "cell_type": "markdown",
   "metadata": {},
   "source": [
    "### Business goals\n",
    "\n",
    "- **Optimize resource allocation :** Predict well functionality to prioritize repairs for non-functional and poorly functioning wells . \n",
    "\n",
    "- **Improve community access to clean water :** Reduce repairs downtime and increase availability of functional water points\n",
    "\n",
    "- **Support sustainability and durability of wells :** Provide insights to future installations and maintenance strategies. What factors contribute to well failures?"
   ]
  },
  {
   "cell_type": "markdown",
   "metadata": {},
   "source": [
    "### **Proposed Solution (Metric : Accuracy Score >= 80%)**\n",
    "\n",
    "Develop a machine learning model to accurately predict the functionality status of water wells (functional, non-functional, functional needs repair) based on available data.\n",
    " \n",
    "This model will enable repair prioritization, informed decision making (data-driven), and improvement of water access\n",
    "\n",
    "####    Objectives\n",
    "-  Develop a Predictive Model: Create a machine learning model that accurately predicts the functionality status of water wells using features like pump type, region and other relevant factors.\n",
    "\n",
    "-  Identify Key Predictors: Analyze the model to identify the key factors that contribute to well functionality or failure, providing insights that can inform future well design and maintenance strategies."
   ]
  },
  {
   "cell_type": "markdown",
   "metadata": {},
   "source": [
    "### **Data Understanding**\n",
    "\n",
    "The dataset provided on https://www.drivendata.org/ by **Taarifa** and the **Tanzanian Ministry of Water**. More details on the competition could be found [here](https://www.drivendata.org/competitions/7/pump-it-up-data-mining-the-water-table/page/23/).\n",
    "Feature description for the data can be found in [data description](data_description.txt).\n",
    "##### **Data assumptions :**\n",
    "- The dataset is representative of all wells in Tanzania\n",
    "- Historical data trends will hold for future predictions"
   ]
  },
  {
   "cell_type": "markdown",
   "metadata": {},
   "source": [
    "### **Methodology**"
   ]
  },
  {
   "cell_type": "markdown",
   "metadata": {},
   "source": []
  },
  {
   "cell_type": "markdown",
   "metadata": {},
   "source": [
    "### **Import Libraries**"
   ]
  },
  {
   "cell_type": "code",
   "execution_count": 1,
   "metadata": {},
   "outputs": [],
   "source": [
    "import pandas as pd\n",
    "import numpy as np\n",
    "import sys\n",
    "import os\n",
    "\n",
    "# Data visualization\n",
    "import matplotlib.pyplot as plt\n",
    "import seaborn as sns\n",
    "\n",
    "# Machine learning\n",
    "from sklearn.model_selection import train_test_split,GridSearchCV\n",
    "from sklearn.preprocessing import StandardScaler\n",
    "from sklearn.ensemble import RandomForestClassifier, GradientBoostingClassifier\n",
    "from sklearn.tree import DecisionTreeClassifier\n",
    "from sklearn.linear_model import LogisticRegression\n",
    "from sklearn.metrics import accuracy_score, classification_report, confusion_matrix\n",
    "\n",
    "# Feature selection and engineering\n",
    "from sklearn.feature_selection import RFE\n",
    "\n",
    "#Model evaluation\n",
    "from sklearn.metrics import precision_score, recall_score, f1_score, roc_auc_score\n",
    "\n",
    "# Add the parent directory of 'modules' to sys.path\n",
    "sys.path.append(os.path.abspath(\"../modules\"))\n",
    "\n",
    "# Now import\n",
    "from modules.EDA import EDA\n",
    "from modules.dataprocessor import DataProcessor\n",
    "from modules.testprocessor import TestDatasetProcessor"
   ]
  },
  {
   "cell_type": "markdown",
   "metadata": {},
   "source": [
    "### **Load Dataset**"
   ]
  },
  {
   "cell_type": "code",
   "execution_count": 2,
   "metadata": {},
   "outputs": [
    {
     "data": {
      "text/html": [
       "<div>\n",
       "<style scoped>\n",
       "    .dataframe tbody tr th:only-of-type {\n",
       "        vertical-align: middle;\n",
       "    }\n",
       "\n",
       "    .dataframe tbody tr th {\n",
       "        vertical-align: top;\n",
       "    }\n",
       "\n",
       "    .dataframe thead th {\n",
       "        text-align: right;\n",
       "    }\n",
       "</style>\n",
       "<table border=\"1\" class=\"dataframe\">\n",
       "  <thead>\n",
       "    <tr style=\"text-align: right;\">\n",
       "      <th></th>\n",
       "      <th>id</th>\n",
       "      <th>amount_tsh</th>\n",
       "      <th>date_recorded</th>\n",
       "      <th>funder</th>\n",
       "      <th>gps_height</th>\n",
       "      <th>installer</th>\n",
       "      <th>longitude</th>\n",
       "      <th>latitude</th>\n",
       "      <th>basin</th>\n",
       "      <th>region</th>\n",
       "      <th>...</th>\n",
       "      <th>construction_year</th>\n",
       "      <th>extraction_type_class</th>\n",
       "      <th>management_group</th>\n",
       "      <th>payment_type</th>\n",
       "      <th>quality_group</th>\n",
       "      <th>quantity</th>\n",
       "      <th>source_class</th>\n",
       "      <th>waterpoint_type</th>\n",
       "      <th>status_group</th>\n",
       "      <th>year_recorded</th>\n",
       "    </tr>\n",
       "  </thead>\n",
       "  <tbody>\n",
       "    <tr>\n",
       "      <th>0</th>\n",
       "      <td>69572</td>\n",
       "      <td>6000.0</td>\n",
       "      <td>2011-03-14</td>\n",
       "      <td>ROMAN</td>\n",
       "      <td>1390.0</td>\n",
       "      <td>ROMAN</td>\n",
       "      <td>34.938093</td>\n",
       "      <td>-9.856322</td>\n",
       "      <td>LAKE NYASA</td>\n",
       "      <td>IRINGA</td>\n",
       "      <td>...</td>\n",
       "      <td>1999</td>\n",
       "      <td>GRAVITY</td>\n",
       "      <td>USER-GROUP</td>\n",
       "      <td>ANNUALLY</td>\n",
       "      <td>GOOD</td>\n",
       "      <td>ENOUGH</td>\n",
       "      <td>GROUNDWATER</td>\n",
       "      <td>COMMUNAL STANDPIPE</td>\n",
       "      <td>FUNCTIONAL</td>\n",
       "      <td>2011</td>\n",
       "    </tr>\n",
       "    <tr>\n",
       "      <th>1</th>\n",
       "      <td>8776</td>\n",
       "      <td>0.0</td>\n",
       "      <td>2013-03-06</td>\n",
       "      <td>GRUMETI</td>\n",
       "      <td>1399.0</td>\n",
       "      <td>GRUMETI</td>\n",
       "      <td>34.698766</td>\n",
       "      <td>-2.147466</td>\n",
       "      <td>LAKE VICTORIA</td>\n",
       "      <td>MARA</td>\n",
       "      <td>...</td>\n",
       "      <td>2010</td>\n",
       "      <td>GRAVITY</td>\n",
       "      <td>USER-GROUP</td>\n",
       "      <td>NEVER PAY</td>\n",
       "      <td>GOOD</td>\n",
       "      <td>INSUFFICIENT</td>\n",
       "      <td>SURFACE</td>\n",
       "      <td>COMMUNAL STANDPIPE</td>\n",
       "      <td>FUNCTIONAL</td>\n",
       "      <td>2013</td>\n",
       "    </tr>\n",
       "    <tr>\n",
       "      <th>2</th>\n",
       "      <td>34310</td>\n",
       "      <td>25.0</td>\n",
       "      <td>2013-02-25</td>\n",
       "      <td>LOTTERY CLUB</td>\n",
       "      <td>686.0</td>\n",
       "      <td>WORLD VISION</td>\n",
       "      <td>37.460664</td>\n",
       "      <td>-3.821329</td>\n",
       "      <td>PANGANI</td>\n",
       "      <td>MANYARA</td>\n",
       "      <td>...</td>\n",
       "      <td>2009</td>\n",
       "      <td>GRAVITY</td>\n",
       "      <td>USER-GROUP</td>\n",
       "      <td>PER BUCKET</td>\n",
       "      <td>GOOD</td>\n",
       "      <td>ENOUGH</td>\n",
       "      <td>SURFACE</td>\n",
       "      <td>COMMUNAL STANDPIPE MULTIPLE</td>\n",
       "      <td>FUNCTIONAL</td>\n",
       "      <td>2013</td>\n",
       "    </tr>\n",
       "    <tr>\n",
       "      <th>3</th>\n",
       "      <td>67743</td>\n",
       "      <td>0.0</td>\n",
       "      <td>2013-01-28</td>\n",
       "      <td>UNICEF</td>\n",
       "      <td>263.0</td>\n",
       "      <td>UNICEF</td>\n",
       "      <td>38.486161</td>\n",
       "      <td>-11.155298</td>\n",
       "      <td>RUVUMA / SOUTHERN COAST</td>\n",
       "      <td>MTWARA</td>\n",
       "      <td>...</td>\n",
       "      <td>1986</td>\n",
       "      <td>SUBMERSIBLE</td>\n",
       "      <td>USER-GROUP</td>\n",
       "      <td>NEVER PAY</td>\n",
       "      <td>GOOD</td>\n",
       "      <td>DRY</td>\n",
       "      <td>GROUNDWATER</td>\n",
       "      <td>COMMUNAL STANDPIPE MULTIPLE</td>\n",
       "      <td>NON FUNCTIONAL</td>\n",
       "      <td>2013</td>\n",
       "    </tr>\n",
       "    <tr>\n",
       "      <th>4</th>\n",
       "      <td>19728</td>\n",
       "      <td>0.0</td>\n",
       "      <td>2011-07-13</td>\n",
       "      <td>ACTION IN A</td>\n",
       "      <td>0.0</td>\n",
       "      <td>ARTISAN</td>\n",
       "      <td>31.130847</td>\n",
       "      <td>-1.825359</td>\n",
       "      <td>LAKE VICTORIA</td>\n",
       "      <td>KAGERA</td>\n",
       "      <td>...</td>\n",
       "      <td>0</td>\n",
       "      <td>GRAVITY</td>\n",
       "      <td>OTHER</td>\n",
       "      <td>NEVER PAY</td>\n",
       "      <td>GOOD</td>\n",
       "      <td>SEASONAL</td>\n",
       "      <td>SURFACE</td>\n",
       "      <td>COMMUNAL STANDPIPE</td>\n",
       "      <td>FUNCTIONAL</td>\n",
       "      <td>2011</td>\n",
       "    </tr>\n",
       "  </tbody>\n",
       "</table>\n",
       "<p>5 rows × 25 columns</p>\n",
       "</div>"
      ],
      "text/plain": [
       "      id  amount_tsh date_recorded        funder  gps_height     installer  \\\n",
       "0  69572      6000.0    2011-03-14         ROMAN      1390.0         ROMAN   \n",
       "1   8776         0.0    2013-03-06       GRUMETI      1399.0       GRUMETI   \n",
       "2  34310        25.0    2013-02-25  LOTTERY CLUB       686.0  WORLD VISION   \n",
       "3  67743         0.0    2013-01-28        UNICEF       263.0        UNICEF   \n",
       "4  19728         0.0    2011-07-13   ACTION IN A         0.0       ARTISAN   \n",
       "\n",
       "   longitude   latitude                    basin   region  ...  \\\n",
       "0  34.938093  -9.856322               LAKE NYASA   IRINGA  ...   \n",
       "1  34.698766  -2.147466            LAKE VICTORIA     MARA  ...   \n",
       "2  37.460664  -3.821329                  PANGANI  MANYARA  ...   \n",
       "3  38.486161 -11.155298  RUVUMA / SOUTHERN COAST   MTWARA  ...   \n",
       "4  31.130847  -1.825359            LAKE VICTORIA   KAGERA  ...   \n",
       "\n",
       "  construction_year  extraction_type_class management_group payment_type  \\\n",
       "0              1999                GRAVITY       USER-GROUP     ANNUALLY   \n",
       "1              2010                GRAVITY       USER-GROUP    NEVER PAY   \n",
       "2              2009                GRAVITY       USER-GROUP   PER BUCKET   \n",
       "3              1986            SUBMERSIBLE       USER-GROUP    NEVER PAY   \n",
       "4                 0                GRAVITY            OTHER    NEVER PAY   \n",
       "\n",
       "  quality_group      quantity source_class              waterpoint_type  \\\n",
       "0          GOOD        ENOUGH  GROUNDWATER           COMMUNAL STANDPIPE   \n",
       "1          GOOD  INSUFFICIENT      SURFACE           COMMUNAL STANDPIPE   \n",
       "2          GOOD        ENOUGH      SURFACE  COMMUNAL STANDPIPE MULTIPLE   \n",
       "3          GOOD           DRY  GROUNDWATER  COMMUNAL STANDPIPE MULTIPLE   \n",
       "4          GOOD      SEASONAL      SURFACE           COMMUNAL STANDPIPE   \n",
       "\n",
       "     status_group year_recorded  \n",
       "0      FUNCTIONAL          2011  \n",
       "1      FUNCTIONAL          2013  \n",
       "2      FUNCTIONAL          2013  \n",
       "3  NON FUNCTIONAL          2013  \n",
       "4      FUNCTIONAL          2011  \n",
       "\n",
       "[5 rows x 25 columns]"
      ]
     },
     "execution_count": 2,
     "metadata": {},
     "output_type": "execute_result"
    }
   ],
   "source": [
    "# Load the dataset\n",
    "df = pd.read_csv(\"./data/wells_data_cleaned.csv\")\n",
    "# Check the first few rows to confirm the structure\n",
    "df.head()"
   ]
  },
  {
   "cell_type": "markdown",
   "metadata": {},
   "source": [
    "### **Exploratory Data Analysis**"
   ]
  }
 ],
 "metadata": {
  "kernelspec": {
   "display_name": "learn-env",
   "language": "python",
   "name": "python3"
  },
  "language_info": {
   "codemirror_mode": {
    "name": "ipython",
    "version": 3
   },
   "file_extension": ".py",
   "mimetype": "text/x-python",
   "name": "python",
   "nbconvert_exporter": "python",
   "pygments_lexer": "ipython3",
   "version": "3.8.5"
  }
 },
 "nbformat": 4,
 "nbformat_minor": 2
}
