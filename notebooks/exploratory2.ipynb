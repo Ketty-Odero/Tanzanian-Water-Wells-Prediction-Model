{
 "cells": [
  {
   "cell_type": "code",
   "execution_count": 1,
   "metadata": {},
   "outputs": [],
   "source": [
    "# Import libraries\n",
    "import pandas as pd\n",
    "import numpy as np\n",
    "import matplotlib.pyplot as plt\n",
    "import seaborn as sns\n",
    "\n",
    "from sklearn.model_selection import train_test_split, GridSearchCV\n",
    "from sklearn.metrics import accuracy_score, recall_score, classification_report, confusion_matrix\n",
    "from sklearn.ensemble import RandomForestClassifier, GradientBoostingClassifier\n",
    "from sklearn.linear_model import LogisticRegression\n",
    "from sklearn.preprocessing import StandardScaler, LabelEncoder\n",
    "from imblearn.over_sampling import SMOTE\n"
   ]
  },
  {
   "cell_type": "code",
   "execution_count": 4,
   "metadata": {},
   "outputs": [
    {
     "name": "stdout",
     "output_type": "stream",
     "text": [
      "First 5 rows:\n",
      "      id  amount_tsh date_recorded        funder  gps_height     installer  \\\n",
      "0  69572      6000.0    2011-03-14         Roman        1390         Roman   \n",
      "1   8776         0.0    2013-03-06       Grumeti        1399       GRUMETI   \n",
      "2  34310        25.0    2013-02-25  Lottery Club         686  World vision   \n",
      "3  67743         0.0    2013-01-28        Unicef         263        UNICEF   \n",
      "4  19728         0.0    2011-07-13   Action In A           0       Artisan   \n",
      "\n",
      "   longitude   latitude              wpt_name  num_private  ... water_quality  \\\n",
      "0  34.938093  -9.856322                  none            0  ...          soft   \n",
      "1  34.698766  -2.147466              Zahanati            0  ...          soft   \n",
      "2  37.460664  -3.821329           Kwa Mahundi            0  ...          soft   \n",
      "3  38.486161 -11.155298  Zahanati Ya Nanyumbu            0  ...          soft   \n",
      "4  31.130847  -1.825359               Shuleni            0  ...          soft   \n",
      "\n",
      "  quality_group      quantity  quantity_group                source  \\\n",
      "0          good        enough          enough                spring   \n",
      "1          good  insufficient    insufficient  rainwater harvesting   \n",
      "2          good        enough          enough                   dam   \n",
      "3          good           dry             dry           machine dbh   \n",
      "4          good      seasonal        seasonal  rainwater harvesting   \n",
      "\n",
      "            source_type source_class              waterpoint_type  \\\n",
      "0                spring  groundwater           communal standpipe   \n",
      "1  rainwater harvesting      surface           communal standpipe   \n",
      "2                   dam      surface  communal standpipe multiple   \n",
      "3              borehole  groundwater  communal standpipe multiple   \n",
      "4  rainwater harvesting      surface           communal standpipe   \n",
      "\n",
      "  waterpoint_type_group    status_group  \n",
      "0    communal standpipe      functional  \n",
      "1    communal standpipe      functional  \n",
      "2    communal standpipe      functional  \n",
      "3    communal standpipe  non functional  \n",
      "4    communal standpipe      functional  \n",
      "\n",
      "[5 rows x 41 columns]\n",
      "\n",
      "Dataset Info:\n",
      "<class 'pandas.core.frame.DataFrame'>\n",
      "RangeIndex: 59400 entries, 0 to 59399\n",
      "Data columns (total 41 columns):\n",
      " #   Column                 Non-Null Count  Dtype  \n",
      "---  ------                 --------------  -----  \n",
      " 0   id                     59400 non-null  int64  \n",
      " 1   amount_tsh             59400 non-null  float64\n",
      " 2   date_recorded          59400 non-null  object \n",
      " 3   funder                 55765 non-null  object \n",
      " 4   gps_height             59400 non-null  int64  \n",
      " 5   installer              55745 non-null  object \n",
      " 6   longitude              59400 non-null  float64\n",
      " 7   latitude               59400 non-null  float64\n",
      " 8   wpt_name               59400 non-null  object \n",
      " 9   num_private            59400 non-null  int64  \n",
      " 10  basin                  59400 non-null  object \n",
      " 11  subvillage             59029 non-null  object \n",
      " 12  region                 59400 non-null  object \n",
      " 13  region_code            59400 non-null  int64  \n",
      " 14  district_code          59400 non-null  int64  \n",
      " 15  lga                    59400 non-null  object \n",
      " 16  ward                   59400 non-null  object \n",
      " 17  population             59400 non-null  int64  \n",
      " 18  public_meeting         56066 non-null  object \n",
      " 19  recorded_by            59400 non-null  object \n",
      " 20  scheme_management      55523 non-null  object \n",
      " 21  scheme_name            31234 non-null  object \n",
      " 22  permit                 56344 non-null  object \n",
      " 23  construction_year      59400 non-null  int64  \n",
      " 24  extraction_type        59400 non-null  object \n",
      " 25  extraction_type_group  59400 non-null  object \n",
      " 26  extraction_type_class  59400 non-null  object \n",
      " 27  management             59400 non-null  object \n",
      " 28  management_group       59400 non-null  object \n",
      " 29  payment                59400 non-null  object \n",
      " 30  payment_type           59400 non-null  object \n",
      " 31  water_quality          59400 non-null  object \n",
      " 32  quality_group          59400 non-null  object \n",
      " 33  quantity               59400 non-null  object \n",
      " 34  quantity_group         59400 non-null  object \n",
      " 35  source                 59400 non-null  object \n",
      " 36  source_type            59400 non-null  object \n",
      " 37  source_class           59400 non-null  object \n",
      " 38  waterpoint_type        59400 non-null  object \n",
      " 39  waterpoint_type_group  59400 non-null  object \n",
      " 40  status_group           59400 non-null  object \n",
      "dtypes: float64(3), int64(7), object(31)\n",
      "memory usage: 18.6+ MB\n",
      "None\n",
      "\n",
      "Missing Values:\n",
      "id                           0\n",
      "amount_tsh                   0\n",
      "date_recorded                0\n",
      "funder                    3635\n",
      "gps_height                   0\n",
      "installer                 3655\n",
      "longitude                    0\n",
      "latitude                     0\n",
      "wpt_name                     0\n",
      "num_private                  0\n",
      "basin                        0\n",
      "subvillage                 371\n",
      "region                       0\n",
      "region_code                  0\n",
      "district_code                0\n",
      "lga                          0\n",
      "ward                         0\n",
      "population                   0\n",
      "public_meeting            3334\n",
      "recorded_by                  0\n",
      "scheme_management         3877\n",
      "scheme_name              28166\n",
      "permit                    3056\n",
      "construction_year            0\n",
      "extraction_type              0\n",
      "extraction_type_group        0\n",
      "extraction_type_class        0\n",
      "management                   0\n",
      "management_group             0\n",
      "payment                      0\n",
      "payment_type                 0\n",
      "water_quality                0\n",
      "quality_group                0\n",
      "quantity                     0\n",
      "quantity_group               0\n",
      "source                       0\n",
      "source_type                  0\n",
      "source_class                 0\n",
      "waterpoint_type              0\n",
      "waterpoint_type_group        0\n",
      "status_group                 0\n",
      "dtype: int64\n"
     ]
    }
   ],
   "source": [
    "# Load the dataset\n",
    "file_path = '../data/train_data.csv'  \n",
    "train_data = pd.read_csv(file_path)\n",
    "\n",
    "# Preview the data\n",
    "print(\"First 5 rows:\")\n",
    "print(train_data.head())\n",
    "print(\"\\nDataset Info:\")\n",
    "print(train_data.info())\n",
    "print(\"\\nMissing Values:\")\n",
    "print(train_data.isnull().sum())"
   ]
  },
  {
   "cell_type": "code",
   "execution_count": 6,
   "metadata": {},
   "outputs": [],
   "source": [
    "# Drop columns that are redundant or irrelevant\n",
    "columns_to_drop = ['id', 'wpt_name', 'subvillage', 'region_code', 'scheme_name', 'recorded_by']\n",
    "train_data.drop(columns=columns_to_drop, inplace=True)\n"
   ]
  },
  {
   "cell_type": "code",
   "execution_count": 7,
   "metadata": {},
   "outputs": [
    {
     "name": "stdout",
     "output_type": "stream",
     "text": [
      "\n",
      "Remaining Missing Values:\n",
      "amount_tsh               0\n",
      "date_recorded            0\n",
      "funder                   0\n",
      "gps_height               0\n",
      "installer                0\n",
      "longitude                0\n",
      "latitude                 0\n",
      "num_private              0\n",
      "basin                    0\n",
      "region                   0\n",
      "district_code            0\n",
      "lga                      0\n",
      "ward                     0\n",
      "population               0\n",
      "public_meeting           0\n",
      "scheme_management        0\n",
      "permit                   0\n",
      "construction_year        0\n",
      "extraction_type          0\n",
      "extraction_type_group    0\n",
      "extraction_type_class    0\n",
      "management               0\n",
      "management_group         0\n",
      "payment                  0\n",
      "payment_type             0\n",
      "water_quality            0\n",
      "quality_group            0\n",
      "quantity                 0\n",
      "quantity_group           0\n",
      "source                   0\n",
      "source_type              0\n",
      "source_class             0\n",
      "waterpoint_type          0\n",
      "waterpoint_type_group    0\n",
      "status_group             0\n",
      "dtype: int64\n"
     ]
    }
   ],
   "source": [
    "# Fill missing values for categorical and numerical columns\n",
    "train_data['funder'].fillna('Unknown', inplace=True)\n",
    "train_data['installer'].fillna('Unknown', inplace=True)\n",
    "train_data['public_meeting'].fillna(False, inplace=True)\n",
    "train_data['permit'].fillna(False, inplace=True)\n",
    "train_data['scheme_management'].fillna('Unknown', inplace=True)\n",
    "\n",
    "# Verify no missing values\n",
    "print(\"\\nRemaining Missing Values:\")\n",
    "print(train_data.isnull().sum())\n"
   ]
  },
  {
   "cell_type": "code",
   "execution_count": 27,
   "metadata": {},
   "outputs": [
    {
     "name": "stdout",
     "output_type": "stream",
     "text": [
      "   construction_year  well_age\n",
      "0               1999        25\n",
      "1               2010        14\n",
      "2               2009        15\n",
      "3               1986        38\n",
      "4                  0         0\n"
     ]
    }
   ],
   "source": [
    "# Create a new feature: Age of the well\n",
    "from datetime import datetime\n",
    "\n",
    "# Dynamically calculate the current year\n",
    "current_year = datetime.now().year\n",
    "\n",
    "# Create a new feature: Age of the well\n",
    "train_data['well_age'] = current_year - train_data['construction_year']\n",
    "\n",
    "# Replace invalid or missing years with 0\n",
    "train_data['well_age'] = train_data['well_age'].replace({current_year: 0})\n",
    "\n",
    "# Verify\n",
    "print(train_data[['construction_year', 'well_age']].head())\n"
   ]
  },
  {
   "cell_type": "code",
   "execution_count": 35,
   "metadata": {},
   "outputs": [
    {
     "data": {
      "text/plain": [
       "0"
      ]
     },
     "execution_count": 35,
     "metadata": {},
     "output_type": "execute_result"
    }
   ],
   "source": [
    "train_data['well_age'].min()"
   ]
  },
  {
   "cell_type": "markdown",
   "metadata": {},
   "source": [
    "## EDA"
   ]
  },
  {
   "cell_type": "code",
   "execution_count": 36,
   "metadata": {},
   "outputs": [
    {
     "data": {
      "image/png": "[encoded data removed]",
      "text/plain": [
       "<Figure size 864x432 with 1 Axes>"
      ]
     },
     "metadata": {
      "needs_background": "light"
     },
     "output_type": "display_data"
    }
   ],
   "source": [
    "#Well status by region\n",
    "plt.figure(figsize=(12, 6))\n",
    "sns.countplot(data=train_data, x='basin', hue='status_group')\n",
    "plt.xticks(rotation=90)\n",
    "plt.title(\"Well Status by Region\")\n",
    "plt.show()"
   ]
  },
  {
   "cell_type": "code",
   "execution_count": 29,
   "metadata": {},
   "outputs": [
    {
     "data": {
      "image/png": "[encoded data removed]",
      "text/plain": [
       "<Figure size 576x432 with 1 Axes>"
      ]
     },
     "metadata": {
      "needs_background": "light"
     },
     "output_type": "display_data"
    }
   ],
   "source": [
    "# water quality and well status\n",
    "plt.figure(figsize=(8, 6))\n",
    "sns.countplot(data=train_data, x='quality_group', hue='status_group')\n",
    "plt.title(\"Well Status by Water Quality\")\n",
    "#plt.xlabel()\n",
    "plt.show()"
   ]
  },
  {
   "cell_type": "code",
   "execution_count": 30,
   "metadata": {},
   "outputs": [
    {
     "data": {
      "image/png": "[encoded data removed]",
      "text/plain": [
       "<Figure size 432x288 with 1 Axes>"
      ]
     },
     "metadata": {
      "needs_background": "light"
     },
     "output_type": "display_data"
    }
   ],
   "source": [
    "# well status by population\n",
    "sns.boxplot(data=train_data, x='status_group', y='population')\n",
    "plt.title(\"Population Around Wells by Status\")\n",
    "plt.show()"
   ]
  },
  {
   "cell_type": "code",
   "execution_count": 31,
   "metadata": {},
   "outputs": [
    {
     "data": {
      "image/png": "[encoded data removed]",
      "text/plain": [
       "<Figure size 432x288 with 1 Axes>"
      ]
     },
     "metadata": {
      "needs_background": "light"
     },
     "output_type": "display_data"
    }
   ],
   "source": [
    "#Ground Vs Surface water\n",
    "sns.countplot(data=train_data, x='source_class', hue='status_group')\n",
    "plt.xticks(rotation=45)\n",
    "plt.title(\"Groundwater vs. Surface Water Well Status\")\n",
    "plt.show()\n"
   ]
  },
  {
   "cell_type": "code",
   "execution_count": 34,
   "metadata": {},
   "outputs": [
    {
     "data": {
      "image/png": "[encoded data removed]",
      "text/plain": [
       "<Figure size 720x432 with 1 Axes>"
      ]
     },
     "metadata": {
      "needs_background": "light"
     },
     "output_type": "display_data"
    }
   ],
   "source": [
    "#Well age and failure\n",
    "# Histogram plot of well age by status_group\n",
    "plt.figure(figsize=(10, 6))\n",
    "sns.histplot(\n",
    "    data=train_data,\n",
    "    x='well_age',\n",
    "    hue='status_group',\n",
    "    multiple='stack',\n",
    "    bins=30\n",
    ")\n",
    "plt.title(\"Well Status by Age of Well\")\n",
    "plt.xlabel('Well Age (Years)')\n",
    "plt.ylabel('Number of Wells')\n",
    "plt.show()\n"
   ]
  },
  {
   "cell_type": "markdown",
   "metadata": {},
   "source": [
    "Encoding categoricals"
   ]
  },
  {
   "cell_type": "code",
   "execution_count": null,
   "metadata": {},
   "outputs": [],
   "source": [
    "# Identify categorical columns\n",
    "categorical_columns = train_data.select_dtypes(include=['object', 'category']).columns\n",
    "print(\"Categorical Columns:\", categorical_columns)"
   ]
  },
  {
   "cell_type": "code",
   "execution_count": null,
   "metadata": {},
   "outputs": [],
   "source": [
    "from sklearn.preprocessing import LabelEncoder\n",
    "\n",
    "def encode_features(data):\n",
    "   \n",
    "    # Identify low and high cardinality columns\n",
    "    low_cardinality_cols = ['payment', 'management', 'water_quality', \n",
    "                            'scheme_management','source','basin',\n",
    "                            'payment_type','waterpoint_type','management_group',\n",
    "                            'quantity']  \n",
    "    high_cardinality_cols = ['funder', 'installer','ward','lga','region',\n",
    "                             'extraction_type','date_recorded']          \n",
    "\n",
    "    # One-Hot Encoding for low-cardinality columns\n",
    "    data = pd.get_dummies(data, columns=low_cardinality_cols, drop_first=True)\n",
    "\n",
    "    # Label Encoding for high-cardinality columns\n",
    "    label_encoder = LabelEncoder()\n",
    "    for col in high_cardinality_cols:\n",
    "        data[col] = label_encoder.fit_transform(data[col])\n",
    "\n",
    "    return data\n",
    "\n",
    "# Apply encoding to the train_data DataFrame\n",
    "train_data = encode_features(train_data)"
   ]
  },
  {
   "cell_type": "markdown",
   "metadata": {},
   "source": [
    "5.0 Scaling Numerical Features"
   ]
  },
  {
   "cell_type": "code",
   "execution_count": null,
   "metadata": {},
   "outputs": [],
   "source": [
    "# Identify numerical columns\n",
    "numerical_columns = train_data.select_dtypes(include=['int64', 'float64']).columns\n",
    "print(\"Numerical Columns:\", numerical_columns)"
   ]
  },
  {
   "cell_type": "code",
   "execution_count": null,
   "metadata": {},
   "outputs": [],
   "source": [
    "# Initialize the scaler\n",
    "scaler = StandardScaler()\n",
    "\n",
    "# Scale the numerical columns\n",
    "train_data[numerical_columns] = scaler.fit_transform(train_data[numerical_columns])"
   ]
  },
  {
   "cell_type": "markdown",
   "metadata": {},
   "source": [
    "6.0 Splitting data"
   ]
  },
  {
   "cell_type": "code",
   "execution_count": null,
   "metadata": {},
   "outputs": [],
   "source": [
    "# Define features and target\n",
    "target_column = 'status_group'\n",
    "X = train_data.drop(columns=[target_column])\n",
    "y = train_data[target_column]\n",
    "# splitting the data into training and testing sets\n",
    "X_train, X_test, y_train, y_test = train_test_split(X, y, test_size=0.2, random_state=42)\n",
    "\n",
    "print(\"Training Features Shape:\", X_train.shape)\n",
    "print(\"Testing Features Shape:\", X_test.shape)"
   ]
  },
  {
   "cell_type": "markdown",
   "metadata": {},
   "source": [
    "# Building a dummy model using a dummy classifier"
   ]
  },
  {
   "cell_type": "code",
   "execution_count": null,
   "metadata": {},
   "outputs": [],
   "source": [
    "from sklearn.dummy import DummyClassifier\n",
    "from sklearn.metrics import accuracy_score, classification_report\n",
    "\n",
    "# Initialize a dummy classifier\n",
    "dummy_clf = DummyClassifier(strategy=\"most_frequent\")  # Predicts the most frequent class\n",
    "dummy_clf.fit(X_train, y_train)\n",
    "\n",
    "# Make predictions on the test set\n",
    "y_dummy_pred = dummy_clf.predict(X_test)\n",
    "\n",
    "# Evaluate dummy model\n",
    "print(\"Dummy Model Accuracy:\", accuracy_score(y_test, y_dummy_pred))\n",
    "print(\"\\nClassification Report for Dummy Model:\")\n",
    "print(classification_report(y_test, y_dummy_pred,zero_division=0))"
   ]
  },
  {
   "cell_type": "markdown",
   "metadata": {},
   "source": [
    "# Building a Logistic Regression Model"
   ]
  },
  {
   "cell_type": "code",
   "execution_count": null,
   "metadata": {},
   "outputs": [],
   "source": [
    "# Initializing logistic regression\n",
    "from sklearn.metrics import confusion_matrix\n",
    "# Scale the features\n",
    "X_train_scaled = scaler.fit_transform(X_train)\n",
    "X_test_scaled = scaler.transform(X_test)\n",
    "\n",
    "# Initialize Logistic Regression model\n",
    "log_reg = LogisticRegression(max_iter=1000, random_state=42)\n",
    "\n",
    "# Train the model\n",
    "log_reg.fit(X_train_scaled, y_train)\n",
    "\n",
    "# Make predictions on the test set\n",
    "y_pred = log_reg.predict(X_test_scaled)"
   ]
  },
  {
   "cell_type": "markdown",
   "metadata": {},
   "source": [
    "Model evaluation"
   ]
  },
  {
   "cell_type": "code",
   "execution_count": null,
   "metadata": {},
   "outputs": [],
   "source": [
    "# Accuracy\n",
    "accuracy = accuracy_score(y_test, y_pred)\n",
    "print(f\"Logistic Regression Accuracy: {accuracy:.2f}\")\n",
    "\n",
    "# Classification Report\n",
    "print(\"\\nClassification Report:\")\n",
    "print(classification_report(y_test, y_pred))\n",
    "\n",
    "# Confusion Matrix\n",
    "conf_matrix = confusion_matrix(y_test, y_pred)\n",
    "print(\"\\nConfusion Matrix:\")\n",
    "print(conf_matrix)"
   ]
  },
  {
   "cell_type": "code",
   "execution_count": null,
   "metadata": {},
   "outputs": [],
   "source": [
    "# Predict probabilities\n",
    "y_probs = log_reg.predict_proba(X_test_scaled)\n",
    "\n",
    "# Calculate ROC-AUC (multi-class, one-vs-rest)\n",
    "roc_auc = roc_auc_score(y_test, y_probs, multi_class=\"ovr\")\n",
    "print(f\"\\nROC-AUC Score: {roc_auc:.2f}\")"
   ]
  },
  {
   "cell_type": "markdown",
   "metadata": {},
   "source": [
    "Results Analysis\n",
    "1. Accuracy\n",
    "72% Accuracy: This is an improvement over the dummy model, indicating that Logistic Regression is capturing some patterns in the data.\n",
    "\n",
    "2. Classification Report\n",
    "- functional:\n",
    "\n",
    "Precision: 0.70 → 70% of predicted functional wells are truly functional.\n",
    "Recall: 0.89 → 89% of actual functional wells are correctly identified.\n",
    "F1-score: 0.79 → A balance between precision and recall, indicating good performance.\n",
    "\n",
    "- functional needs repair:\n",
    "\n",
    "Precision: 0.46 → 46% of predictions for this class are correct.\n",
    "Recall: 0.05 → Very low recall indicates the model struggles to detect wells needing repair.\n",
    "F1-score: 0.09 → The model's predictions for this class are quite poor.\n",
    "\n",
    "- non functional:\n",
    "\n",
    "Precision: 0.78 → 78% of predicted non-functional wells are truly non-functional.\n",
    "Recall: 0.61 → The model identifies 61% of actual non-functional wells.\n",
    "F1-score: 0.68 → Decent performance, though recall could be improved.\n",
    "\n",
    "3. Macro and Weighted Averages\n",
    "Macro Avg: Average performance across all classes, unweighted. Lower scores reflect poor performance for the minority class (functional needs repair).\n",
    "Weighted Avg: Average performance weighted by class support (the number of instances per class). Reflects overall performance better.\n",
    "\n",
    "4. Confusion Matrix\n",
    "Diagonal Values (Correct Predictions):\n",
    "Functional: 5779 out of 6457.\n",
    "Needs Repair: 42 out of 851.\n",
    "Non-functional: 2774 out of 4572.\n",
    "\n",
    "Off-Diagonal Values (Misclassifications):\n",
    "Many non-functional wells are misclassified as functional (1782 cases).\n",
    "Very few needs repair wells are identified correctly.\n",
    "\n",
    "*Key Observations*\n",
    "\n",
    "Class Imbalance:\n",
    "\n",
    "The minority class (functional needs repair) is poorly predicted, as Logistic Regression doesn't handle class imbalance well.\n",
    "\n",
    "Misclassifications:\n",
    "\n",
    "Significant overlap between functional and non-functional wells, suggesting overlapping feature distributions."
   ]
  }
 ],
 "metadata": {
  "kernelspec": {
   "display_name": "learn-env",
   "language": "python",
   "name": "python3"
  },
  "language_info": {
   "codemirror_mode": {
    "name": "ipython",
    "version": 3
   },
   "file_extension": ".py",
   "mimetype": "text/x-python",
   "name": "python",
   "nbconvert_exporter": "python",
   "pygments_lexer": "ipython3",
   "version": "3.8.5"
  }
 },
 "nbformat": 4,
 "nbformat_minor": 2
}
